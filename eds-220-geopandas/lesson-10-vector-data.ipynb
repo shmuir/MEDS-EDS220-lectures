{
 "cells": [
  {
   "cell_type": "markdown",
   "id": "15742a5d-61a8-4cf3-b3d0-9b149828f73e",
   "metadata": {},
   "source": [
    "23 October 2023\n",
    "\n",
    "https://carmengg.github.io/eds-220-book/lectures/lesson-8-vector-data.html\n",
    "\n",
    "# Vector Data\n",
    "\n",
    "## Points, Lines, and Polygons\n",
    "\n",
    "- **Points**: each point has a single x,y location. Examples of pointdata that can be represented as point vector data are sampling locations or animal sightings.\n",
    "\n",
    "- **Lines**: a line is composed of at least two points that are connected. Roads and streams are commonly depicted as line vector data.\n",
    "\n",
    "- **Polygons**: polygons are sets of three or more vertices that are connected and form a closed region. Political boundaries (outlines of countires, states, cities, etc) are examples of polygon vector data.\n",
    "\n",
    "## Shapefiles\n",
    "\n",
    "- **.shp**: shape format, this file has the geometries for all features.\n",
    "- **.shx**: shape index format, this file indexes the features\n",
    "- **.dbf**: attribute format, this file stores the attributes for features as a table\n",
    "\n",
    "Sometimes shapefiles will have additional files, including:\n",
    "- **.prj**: a file containing information about the projection and coordinate reference system\n",
    "- **.sbn** and **.sbx**: files that contian a spatial index of the features\n",
    "- **.shp.xml**: geospatial metadata in XML format."
   ]
  }
 ],
 "metadata": {
  "kernelspec": {
   "display_name": "Anaconda 3 (Base)",
   "language": "python",
   "name": "base"
  },
  "language_info": {
   "codemirror_mode": {
    "name": "ipython",
    "version": 3
   },
   "file_extension": ".py",
   "mimetype": "text/x-python",
   "name": "python",
   "nbconvert_exporter": "python",
   "pygments_lexer": "ipython3",
   "version": "3.9.13"
  }
 },
 "nbformat": 4,
 "nbformat_minor": 5
}

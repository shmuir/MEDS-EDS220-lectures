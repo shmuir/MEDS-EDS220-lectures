{
 "cells": [
  {
   "cell_type": "markdown",
   "id": "43b2fbb6-2d2f-4bec-a2ac-978e53de5eae",
   "metadata": {},
   "source": [
    "2 October 2023\n",
    "\n",
    "## `NumPy`"
   ]
  },
  {
   "cell_type": "code",
   "execution_count": 1,
   "id": "257421d0-04cf-4d41-a202-3ca69418fe27",
   "metadata": {
    "tags": []
   },
   "outputs": [],
   "source": [
    "import numpy as np"
   ]
  },
  {
   "cell_type": "markdown",
   "id": "574ee49f-e652-463c-9129-95e1d5c896ae",
   "metadata": {},
   "source": [
    "- one of the core packages for numerical computing in Python\n",
    "- many packages built on `numpy`\n",
    "- has been optimized for processing\n"
   ]
  },
  {
   "cell_type": "markdown",
   "id": "949d1417-2557-4df8-8668-d02c29847f56",
   "metadata": {},
   "source": [
    "### Variables"
   ]
  },
  {
   "cell_type": "code",
   "execution_count": 3,
   "id": "30153be2-9185-4317-850d-fc0420cb5164",
   "metadata": {
    "tags": []
   },
   "outputs": [],
   "source": [
    "# assigning a small array to variable \"a\"\n",
    "\n",
    "a = np.array([[1,1,2], [3,5,8]])"
   ]
  },
  {
   "cell_type": "markdown",
   "id": "39008bf7-a207-4295-bc34-45e5e6be9f8e",
   "metadata": {},
   "source": [
    "We can see that variable value in two ways:"
   ]
  },
  {
   "cell_type": "code",
   "execution_count": 4,
   "id": "a93a18cd-a48f-4447-b9ab-168adb7ce36a",
   "metadata": {
    "tags": []
   },
   "outputs": [
    {
     "data": {
      "text/plain": [
       "array([[1, 1, 2],\n",
       "       [3, 5, 8]])"
      ]
     },
     "execution_count": 4,
     "metadata": {},
     "output_type": "execute_result"
    }
   ],
   "source": [
    "a"
   ]
  },
  {
   "cell_type": "code",
   "execution_count": 5,
   "id": "88a6c213-5aae-4132-93b3-17e668dc6a59",
   "metadata": {
    "tags": []
   },
   "outputs": [
    {
     "name": "stdout",
     "output_type": "stream",
     "text": [
      "[[1 1 2]\n",
      " [3 5 8]]\n"
     ]
    }
   ],
   "source": [
    "print(a)"
   ]
  },
  {
   "cell_type": "markdown",
   "id": "6ce05f5e-cffb-4656-a5fc-0efbf94bf11b",
   "metadata": {},
   "source": [
    "### Naming Variables"
   ]
  },
  {
   "cell_type": "markdown",
   "id": "149246ed-63d3-4af4-81cb-bd054f1ebb0a",
   "metadata": {},
   "source": [
    "We are going to most often use `snake_case` for naming variables\n",
    "\n",
    "**object**: bundle of properties and actions about something \n",
    "- e.g. object: df, properties: # of rows, names of colums, data created\n",
    "    - actions: selecting a row, adding a column\n",
    "- Sun: object\n",
    "    - soleil is French for sun, sol is Spanish for sun\n",
    "- in practice we will use object and variable interchangably\n",
    "\n",
    "**type**: what kind of object, can also be called the **class**\n",
    "- can see the type by using the `type()` function"
   ]
  },
  {
   "cell_type": "code",
   "execution_count": null,
   "id": "e95e3c11-961d-444d-93a2-16448db9bff9",
   "metadata": {},
   "outputs": [
    {
     "data": {
      "text/plain": [
       "numpy.ndarray"
      ]
     },
     "execution_count": 6,
     "metadata": {},
     "output_type": "execute_result"
    }
   ],
   "source": [
    "type(a)"
   ]
  },
  {
   "cell_type": "markdown",
   "id": "a2278152-c983-42df-90fa-4697435188d7",
   "metadata": {},
   "source": [
    "The `numpy.ndarray` is the core data type in the `NumPy` package.\n",
    "\n",
    "Check type of an entry by indexing:"
   ]
  },
  {
   "cell_type": "code",
   "execution_count": 8,
   "id": "c7b23f8a-ceec-48f9-a044-4a891b1162af",
   "metadata": {
    "tags": []
   },
   "outputs": [
    {
     "name": "stdout",
     "output_type": "stream",
     "text": [
      "1\n"
     ]
    },
    {
     "data": {
      "text/plain": [
       "numpy.int64"
      ]
     },
     "execution_count": 8,
     "metadata": {},
     "output_type": "execute_result"
    }
   ],
   "source": [
    "print(a[0,0])\n",
    "type(a[0,0])"
   ]
  },
  {
   "cell_type": "markdown",
   "id": "8350b3da-57d3-44c6-b813-fe3e0539c3c1",
   "metadata": {},
   "source": [
    "*How would you access the value 5 in array a?*"
   ]
  },
  {
   "cell_type": "code",
   "execution_count": 11,
   "id": "6f6a46bd-0a26-46ec-907b-3c8489696da1",
   "metadata": {
    "tags": []
   },
   "outputs": [
    {
     "name": "stdout",
     "output_type": "stream",
     "text": [
      "[[1 1 2]\n",
      " [3 5 8]]\n",
      "5\n"
     ]
    }
   ],
   "source": [
    "print(a)\n",
    "print(a[1,1]) #second row, second column"
   ]
  },
  {
   "cell_type": "markdown",
   "id": "96a77ec3-97dd-4219-bfc7-b14a5189fd98",
   "metadata": {},
   "source": [
    "### Functions\n",
    "\n",
    "`print` is a Python function\n",
    "\n",
    "**function**: takes in a set of arguments and uses them to produce an output\n",
    "\n",
    "argument = parameter\n",
    "\n",
    "We can ask info about a funciton by using `?function_name`"
   ]
  },
  {
   "cell_type": "code",
   "execution_count": 12,
   "id": "30303d7e-b638-4c5b-b646-5f7941d575b0",
   "metadata": {
    "tags": []
   },
   "outputs": [
    {
     "data": {
      "text/plain": [
       "\u001b[0;31mDocstring:\u001b[0m\n",
       "print(value, ..., sep=' ', end='\\n', file=sys.stdout, flush=False)\n",
       "\n",
       "Prints the values to a stream, or to sys.stdout by default.\n",
       "Optional keyword arguments:\n",
       "file:  a file-like object (stream); defaults to the current sys.stdout.\n",
       "sep:   string inserted between values, default a space.\n",
       "end:   string appended after the last value, default a newline.\n",
       "flush: whether to forcibly flush the stream.\n",
       "\u001b[0;31mType:\u001b[0m      builtin_function_or_method\n"
      ]
     },
     "metadata": {},
     "output_type": "display_data"
    }
   ],
   "source": [
    "?print"
   ]
  },
  {
   "cell_type": "markdown",
   "id": "99cb2862-4cc7-48a8-a481-580575bcd909",
   "metadata": {},
   "source": [
    "##### Different types of arguments\n",
    "\n",
    "**non-optional arguments**: arguments you need to specify for the function to work\n",
    "\n",
    "**optional arguments**: arguments pre-filled with a default value that can be overridden."
   ]
  },
  {
   "cell_type": "code",
   "execution_count": 13,
   "id": "5fef1d55-7c48-4a4b-bd13-ebe27c5b4a86",
   "metadata": {
    "tags": []
   },
   "outputs": [
    {
     "name": "stdout",
     "output_type": "stream",
     "text": [
      "[[1 1 2]\n",
      " [3 5 8]]:)"
     ]
    }
   ],
   "source": [
    "print(a, end = ':)')"
   ]
  },
  {
   "cell_type": "markdown",
   "id": "113906e8-cc52-47ae-aa9d-86bb70e053de",
   "metadata": {},
   "source": [
    "### Attributes and Methods\n",
    "\n",
    "An object in Python has attrubites and methods.\n",
    "\n",
    "**attribute**: a property of an object, a piece of information about it\n",
    "- weight, color, species\n",
    "\n",
    "**method**: a procedure associated with an object, an action where main parameter is an object\n",
    "- swim(), eat(), jump()\n",
    "\n",
    "Access a variable's attributes and methods by adding a `.` at the end of the variable name\n",
    "\n",
    "- `variable.variable_method()`\n",
    "\n",
    "- `variable.variable_attribute`\n",
    "\n",
    "Examples:"
   ]
  },
  {
   "cell_type": "code",
   "execution_count": 2,
   "id": "204fc88b-8867-46df-aea2-f90b80d21444",
   "metadata": {
    "tags": []
   },
   "outputs": [
    {
     "data": {
      "text/plain": [
       "array([[1, 2, 3],\n",
       "       [4, 5, 6],\n",
       "       [7, 8, 9]])"
      ]
     },
     "execution_count": 2,
     "metadata": {},
     "output_type": "execute_result"
    }
   ],
   "source": [
    "#define a 3x3 array\n",
    "\n",
    "var = np.array( [ [1,2,3], [4,5,6], [7,8,9] ] )\n",
    "var"
   ]
  },
  {
   "cell_type": "code",
   "execution_count": 8,
   "id": "d2a4c394-c503-44f5-a33d-593c37c633bf",
   "metadata": {
    "tags": []
   },
   "outputs": [
    {
     "data": {
      "text/plain": [
       "(3, 3)"
      ]
     },
     "execution_count": 8,
     "metadata": {},
     "output_type": "execute_result"
    }
   ],
   "source": [
    "#shape: attribute telling us # of elements in each dim. of array\n",
    "\n",
    "var.shape"
   ]
  },
  {
   "cell_type": "code",
   "execution_count": 12,
   "id": "0657f27a-13ce-42dc-9bce-ebb228123edd",
   "metadata": {
    "tags": []
   },
   "outputs": [
    {
     "data": {
      "text/plain": [
       "2"
      ]
     },
     "execution_count": 12,
     "metadata": {},
     "output_type": "execute_result"
    }
   ],
   "source": [
    "var.ndim"
   ]
  },
  {
   "cell_type": "code",
   "execution_count": 13,
   "id": "dbee21d0-f265-4551-a50c-88b1a73fd01d",
   "metadata": {
    "tags": []
   },
   "outputs": [
    {
     "data": {
      "text/plain": [
       "int"
      ]
     },
     "execution_count": 13,
     "metadata": {},
     "output_type": "execute_result"
    }
   ],
   "source": [
    "type(var.ndim)"
   ]
  },
  {
   "cell_type": "markdown",
   "id": "0aa5736e-7cb6-48e8-bc2b-5a7b9942ea09",
   "metadata": {},
   "source": [
    "Examples of **methods**:"
   ]
  },
  {
   "cell_type": "code",
   "execution_count": 15,
   "id": "c677e4de-70f7-407f-82d2-14df307e4f8d",
   "metadata": {
    "tags": []
   },
   "outputs": [
    {
     "data": {
      "text/plain": [
       "1"
      ]
     },
     "execution_count": 15,
     "metadata": {},
     "output_type": "execute_result"
    }
   ],
   "source": [
    "#return minimum value of the array\n",
    "var.min()"
   ]
  },
  {
   "cell_type": "code",
   "execution_count": 17,
   "id": "6a9d68b2-b9fc-458f-82d4-61879bdfb914",
   "metadata": {
    "tags": []
   },
   "outputs": [
    {
     "data": {
      "text/plain": [
       "builtin_function_or_method"
      ]
     },
     "execution_count": 17,
     "metadata": {},
     "output_type": "execute_result"
    }
   ],
   "source": [
    "type(var.min)"
   ]
  },
  {
   "cell_type": "markdown",
   "id": "839b699e-905b-409b-b0ea-4af38764a51c",
   "metadata": {},
   "source": [
    "#### R and Python\n",
    "\n",
    "R: does not use methods within an object\n",
    "- functions are extrinstic (outside) the objects they are acting on\n",
    "\n",
    "Example:\n",
    "\n",
    "In R there are two seperate items' `var` and function `min`\n",
    "\n",
    "```\n",
    "# R code\n",
    "var <- array(c(1,4,7,2,5,8,3,6,9), dim = c(3,3))\n",
    "\n",
    "min(var)\n",
    "```\n",
    "\n",
    "Using the pipe operator `%>%`, this is closer to the `.` in Python\n",
    "\n",
    "```\n",
    "var <- array(c(1,4,7,2,5,8,3,6,9), dim = c(3,3))\n",
    "\n",
    "var %>% \n",
    "    min()\n",
    "```\n",
    "\n",
    "The pipe `%>%` is passing `var` to the `min()` funtion as it's first argument. This is what the `.` does in Python.\n",
    "\n",
    "```\n",
    "var.min()\n",
    "```"
   ]
  },
  {
   "cell_type": "code",
   "execution_count": null,
   "id": "9276d011-b1c1-43d7-9229-4544a541a6cb",
   "metadata": {},
   "outputs": [],
   "source": []
  }
 ],
 "metadata": {
  "kernelspec": {
   "display_name": "Anaconda 3 (Base)",
   "language": "python",
   "name": "base"
  },
  "language_info": {
   "codemirror_mode": {
    "name": "ipython",
    "version": 3
   },
   "file_extension": ".py",
   "mimetype": "text/x-python",
   "name": "python",
   "nbconvert_exporter": "python",
   "pygments_lexer": "ipython3",
   "version": "3.9.13"
  }
 },
 "nbformat": 4,
 "nbformat_minor": 5
}

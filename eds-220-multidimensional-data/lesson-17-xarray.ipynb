{
 "cells": [
  {
   "cell_type": "markdown",
   "id": "3cde3c65-3737-45ac-8754-f676e09a9a26",
   "metadata": {},
   "source": [
    "6 November 2023\n",
    "\n",
    "# NetCDF\n",
    "\n"
   ]
  }
 ],
 "metadata": {
  "kernelspec": {
   "display_name": "Anaconda 3 (Base)",
   "language": "python",
   "name": "base"
  },
  "language_info": {
   "codemirror_mode": {
    "name": "ipython",
    "version": 3
   },
   "file_extension": ".py",
   "mimetype": "text/x-python",
   "name": "python",
   "nbconvert_exporter": "python",
   "pygments_lexer": "ipython3",
   "version": "3.9.13"
  }
 },
 "nbformat": 4,
 "nbformat_minor": 5
}
